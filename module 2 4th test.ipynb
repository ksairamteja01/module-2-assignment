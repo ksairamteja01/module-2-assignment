{
 "cells": [
  {
   "cell_type": "code",
   "execution_count": null,
   "metadata": {},
   "outputs": [],
   "source": [
    "#1"
   ]
  },
  {
   "cell_type": "code",
   "execution_count": 7,
   "metadata": {},
   "outputs": [],
   "source": [
    "import math"
   ]
  },
  {
   "cell_type": "code",
   "execution_count": null,
   "metadata": {},
   "outputs": [],
   "source": [
    "rad=int(input(\"enter the radius of circle : \"))\n",
    "area=(math.pi)* (rad**2)\n",
    "\n",
    "print(\"area of circle is :\",area)\n"
   ]
  },
  {
   "cell_type": "code",
   "execution_count": 2,
   "metadata": {},
   "outputs": [],
   "source": [
    "#2"
   ]
  },
  {
   "cell_type": "code",
   "execution_count": null,
   "metadata": {},
   "outputs": [],
   "source": [
    "import math"
   ]
  },
  {
   "cell_type": "code",
   "execution_count": null,
   "metadata": {},
   "outputs": [],
   "source": [
    "sides=int(input(\"enter number of sides :\"))\n",
    "len=float(input(\"enter length of side :\"))\n",
    "\n",
    "area=sides*(len**2)/(4*math.tan(math.pi/sides))\n",
    "\n",
    "print(\"area is :\",area)"
   ]
  },
  {
   "cell_type": "code",
   "execution_count": 4,
   "metadata": {},
   "outputs": [],
   "source": [
    "#3"
   ]
  },
  {
   "cell_type": "code",
   "execution_count": null,
   "metadata": {},
   "outputs": [],
   "source": [
    "import math"
   ]
  },
  {
   "cell_type": "code",
   "execution_count": null,
   "metadata": {},
   "outputs": [],
   "source": [
    "deg=int(input(\"enter degree of your segment :\"))\n",
    "rad=float(input(\"enter radius of circle :\"))\n",
    "\n",
    "area=(deg/360)*(math.pi)*(rad**2)\n",
    "\n",
    "\n",
    "print(\"the area of segment is :\",area)"
   ]
  },
  {
   "cell_type": "code",
   "execution_count": null,
   "metadata": {},
   "outputs": [],
   "source": [
    "#4"
   ]
  },
  {
   "cell_type": "code",
   "execution_count": null,
   "metadata": {},
   "outputs": [],
   "source": [
    "import random\n",
    "l1=[100,1,2,3,30,40,\"hai\",\"hello\"]\n",
    "random.shuffle(l1)\n",
    "print(\"shuffled list is :\",l1)"
   ]
  },
  {
   "cell_type": "code",
   "execution_count": null,
   "metadata": {},
   "outputs": [],
   "source": [
    "#5"
   ]
  },
  {
   "cell_type": "code",
   "execution_count": null,
   "metadata": {},
   "outputs": [],
   "source": [
    "import random \n",
    "\n",
    "n=random.randrange(1,1000,50)\n",
    "print(n)"
   ]
  },
  {
   "cell_type": "code",
   "execution_count": null,
   "metadata": {},
   "outputs": [],
   "source": [
    "#6"
   ]
  },
  {
   "cell_type": "code",
   "execution_count": null,
   "metadata": {},
   "outputs": [],
   "source": [
    "\n",
    "\n",
    "#sin30 degrees\n",
    "math.sin(math.radians(45))\n",
    "\n",
    "#cos(pi)\n",
    "math.cos(math.pi)\n",
    "\n",
    "#tan90 degrees\n",
    "math.tan(math.radians(90))\n",
    "\n",
    "#5^8\n",
    "math.pow(5,8)\n",
    "\n",
    "#sqrt of 400\n",
    "math.sqrt(400)\n",
    "\n",
    "#5^e\n",
    "math.pow(5,math.e)\n",
    "\n",
    "#log(1024) base 10 and 2\n",
    "\n",
    "math.log10(1024)\n",
    "math.log2(1024)\n",
    "\n",
    "\n",
    "#floor and ciel\n",
    "\n",
    "math.ceil(23.56)\n",
    "math.floor(23.56)\n",
    "\n",
    "\n",
    "#sin(?)=0.8660254037844\n",
    "math.asin(0.8660254037844)"
   ]
  }
 ],
 "metadata": {
  "kernelspec": {
   "display_name": "Python 3",
   "language": "python",
   "name": "python3"
  },
  "language_info": {
   "codemirror_mode": {
    "name": "ipython",
    "version": 3
   },
   "file_extension": ".py",
   "mimetype": "text/x-python",
   "name": "python",
   "nbconvert_exporter": "python",
   "pygments_lexer": "ipython3",
   "version": "3.8.3"
  }
 },
 "nbformat": 4,
 "nbformat_minor": 4
}
