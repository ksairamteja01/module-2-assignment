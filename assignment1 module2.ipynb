{
 "cells": [
  {
   "cell_type": "code",
   "execution_count": 1,
   "metadata": {},
   "outputs": [],
   "source": [
    "#1"
   ]
  },
  {
   "cell_type": "code",
   "execution_count": 12,
   "metadata": {},
   "outputs": [
    {
     "name": "stdout",
     "output_type": "stream",
     "text": [
      "enter first number2\n",
      "enter second number2\n",
      "both are equal\n"
     ]
    }
   ],
   "source": [
    "n1=int(input(\"enter first number\"))\n",
    "n2=int(input(\"enter second number\"))\n",
    "if n1==n2:\n",
    "    print(\"both are equal\")\n",
    "\n",
    "else:\n",
    "    print(\"both are different\")\n",
    "    "
   ]
  },
  {
   "cell_type": "code",
   "execution_count": 13,
   "metadata": {},
   "outputs": [],
   "source": [
    "#2"
   ]
  },
  {
   "cell_type": "code",
   "execution_count": 16,
   "metadata": {},
   "outputs": [
    {
     "name": "stdout",
     "output_type": "stream",
     "text": [
      "enter the first number2\n",
      "enter the second number3\n",
      "sum equal to 5\n"
     ]
    }
   ],
   "source": [
    "n1=float(input(\"enter the first number\"))\n",
    "n2=float(input(\"enter the second number\"))\n",
    "if n1+n2>5:\n",
    "    print(\"sum greater than 5\")\n",
    "elif n1+n2<5:\n",
    "    print(\"sum less than 5\")\n",
    "else:\n",
    "    print(\"sum equal to 5\")\n",
    "    "
   ]
  },
  {
   "cell_type": "code",
   "execution_count": 17,
   "metadata": {},
   "outputs": [],
   "source": [
    "#3"
   ]
  },
  {
   "cell_type": "code",
   "execution_count": 21,
   "metadata": {},
   "outputs": [
    {
     "name": "stdout",
     "output_type": "stream",
     "text": [
      "enter the marks90\n",
      "passed in exam\n"
     ]
    }
   ],
   "source": [
    "marks=float(input(\"enter the marks\"))\n",
    "if marks>=35:\n",
    "    print(\"passed in exam\")\n",
    "else:\n",
    "    print(\"failed in exam\")"
   ]
  },
  {
   "cell_type": "code",
   "execution_count": 22,
   "metadata": {},
   "outputs": [],
   "source": [
    "#4"
   ]
  },
  {
   "cell_type": "code",
   "execution_count": 31,
   "metadata": {},
   "outputs": [
    {
     "name": "stdout",
     "output_type": "stream",
     "text": [
      "enter the first number1\n",
      "enter the second number2\n",
      "enter the second number3\n",
      "n3 is the greatest among three numbers\n"
     ]
    }
   ],
   "source": [
    "n1=float(input(\"enter the first number\"))\n",
    "n2=float(input(\"enter the second number\"))\n",
    "n3=float(input(\"enter the second number\"))\n",
    "if (n1>n3)and(n1>n2):\n",
    "    print(\"n1 is the greatest among three numbers\")\n",
    "elif (n2>n1)and(n2>n3):\n",
    "    print(\"n2 is greatest among three numbers \")\n",
    "else:\n",
    "    print(\"n3 is the greatest among three numbers\")"
   ]
  },
  {
   "cell_type": "markdown",
   "metadata": {},
   "source": []
  }
 ],
 "metadata": {
  "kernelspec": {
   "display_name": "Python 3",
   "language": "python",
   "name": "python3"
  },
  "language_info": {
   "codemirror_mode": {
    "name": "ipython",
    "version": 3
   },
   "file_extension": ".py",
   "mimetype": "text/x-python",
   "name": "python",
   "nbconvert_exporter": "python",
   "pygments_lexer": "ipython3",
   "version": "3.8.3"
  }
 },
 "nbformat": 4,
 "nbformat_minor": 4
}
